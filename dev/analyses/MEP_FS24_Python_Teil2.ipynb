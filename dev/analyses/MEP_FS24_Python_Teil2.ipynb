{
 "cells": [
  {
   "cell_type": "markdown",
   "metadata": {},
   "source": [
    "# MEP Python Grundlagen - Teil II Programming\n",
    "\n",
    "Openbook Prüfungsteil mit allen Unterlagen, ohne Internet (bitte Flugmodus einschalten), ohne AI - Assist\n",
    "\n",
    "Schwierigkeitsgrade: \\\n",
    "<font color='green'>einfach</font>\n",
    "<font color='orange'>mittel</font>\n",
    "<font color='red'>schwierig</font>"
   ]
  },
  {
   "cell_type": "code",
   "execution_count": 1,
   "metadata": {},
   "outputs": [
    {
     "name": "stdout",
     "output_type": "stream",
     "text": [
      "test\n"
     ]
    }
   ],
   "source": [
    "print(\"test\")"
   ]
  },
  {
   "cell_type": "markdown",
   "metadata": {},
   "source": [
    "## Aufgabe 1 - Schleifen + Funktionen *(3 Pkt)* <font color='green'>einfach</font>\n",
    "\n",
    "1.  Definieren Sie eine **Funktion**, die **alle geraden Zahlen von** ``0`` **bis und mit** `n` **ausgibt**. `n` ist dabei ein **Mitgabewert** der Funktion. Geben Sie der Funktion einen deskriptiven Namen, der die **Python-Namensgebungs-Konvention** befolgt. *(2 Pkt)*\n",
    "\n",
    "2.  Erweitern Sie die Funktion mit **Type Hints** *(0.25 Pkt)*.\n",
    "\n",
    "3.  Erweitern Sie die Funktion, dass der ``n`` einen **Default-Wert** von `20` hat *(0.25 Pkt)*.\n",
    "\n",
    "4.  Rufen Sie die Funktion **ohne Argument (Mitgabewert) auf** *(0.25 Pkt)*.\n",
    "\n",
    "5.  Rufen Sie die Funktion so auf, dass **alle geraden Zahlen bis `10` ausgegeben** werden *(0.25 Pkt)*."
   ]
  },
  {
   "cell_type": "code",
   "execution_count": 7,
   "metadata": {},
   "outputs": [],
   "source": [
    "# Schritt 1-3: Definieren der Funktion mit einem deskriptiven Namen, Type Hints und Default-Wert n=20\n",
    "\n",
    "def ausgabe_gerader_zahlen(n:int = 20):\n",
    "    n = n+1\n",
    "    a = range(0, n)\n",
    "    for number in a:\n",
    "        if number % 2 == 0:\n",
    "            print(number)\n"
   ]
  },
  {
   "cell_type": "code",
   "execution_count": 11,
   "metadata": {},
   "outputs": [
    {
     "name": "stdout",
     "output_type": "stream",
     "text": [
      "0\n",
      "2\n",
      "4\n",
      "6\n",
      "8\n",
      "10\n",
      "12\n",
      "14\n",
      "16\n",
      "18\n",
      "20\n",
      "0\n",
      "2\n",
      "4\n",
      "6\n",
      "8\n",
      "10\n",
      "12\n",
      "14\n",
      "16\n",
      "18\n",
      "20\n"
     ]
    }
   ],
   "source": [
    "# Schritt 4: Aufruf ohne Mitgabewert\n",
    "ausgabe_gerader_zahlen(20)\n",
    "ausgabe_gerader_zahlen()"
   ]
  },
  {
   "cell_type": "code",
   "execution_count": 9,
   "metadata": {},
   "outputs": [
    {
     "name": "stdout",
     "output_type": "stream",
     "text": [
      "0\n",
      "2\n",
      "4\n",
      "6\n",
      "8\n",
      "10\n"
     ]
    }
   ],
   "source": [
    "# Schritt 5: Aufruf mit Mitgabewert, sodass alle geraden Zahlen bis 10 ausgegeben werden\n",
    "ausgabe_gerader_zahlen(10)"
   ]
  },
  {
   "cell_type": "markdown",
   "metadata": {},
   "source": [
    "## Aufgabe 2 - Funktionen *(5 Pkt)* <font color='green'>einfach</font>\n",
    "\n",
    "Gegeben ist die Funktion `is_perfect_square(n)`, welche ``True`` zurückliefert, wenn die Zahl `n` eine **Quadratzahl** ist. \\\n",
    "**Hinweis**:  Eine Quadratzahl ist eine Zahl, die das Quadrat einer ganzen Zahl ist (z.B. 1, 4, 9, 16, ...).\n",
    "\n",
    "1. Verwenden Sie diese Funktion, um die Funktion `generate_squares(m)` zu schreiben, welche eine **Liste der ersten `m` Quadratzahlen** zurückgibt. *(3.5 Pkt)*\n",
    "\n",
    "2. Erweitern Sie die Funktion mit **Type Hints** *(0.5 Pkt)*\n",
    "\n",
    "3. Erweitern Sie die Funktion mit einem korrekten Python **Docstring** *(0.5 Pkt)*\n",
    "\n",
    "4. **Testen** Sie die Funktion mit den ersten ``10`` Quadratzahlen *(0.5 Pkt)*\n",
    "\n",
    "\n",
    "**Gegebene Funktion:**\n",
    "``` python\n",
    "import math\n",
    "\n",
    "def is_perfect_square(n):\n",
    "    \"\"\" \n",
    "    Returns True if n (int) is a Perfect Square\n",
    "    \"\"\"\n",
    "    if n < 0:\n",
    "        return False\n",
    "    root = int(math.sqrt(n))\n",
    "    return n == root * root\n",
    "```"
   ]
  },
  {
   "cell_type": "code",
   "execution_count": 45,
   "metadata": {},
   "outputs": [],
   "source": [
    "# ----------- Gegeben: -------------\n",
    "import math\n",
    "def is_perfect_square(n):\n",
    "    \"\"\" \n",
    "    Gibt True zurück, wenn n (int) eine perfekte Quadratzahl ist.\n",
    "    \"\"\"\n",
    "    if n < 0:\n",
    "        return False\n",
    "    root = int(math.sqrt(n))\n",
    "    return n == root * root\n",
    "# ---------------------------------\n",
    "\n",
    "# 1. - 3. Definieren Funktion generate_squares mit Type Hints und Docstring\n",
    "\n",
    "def generate_squar(m:int):\n",
    "    \"\"\"\n",
    "    \"\"\"\n",
    "    \n",
    "    return m**2\n",
    "\n"
   ]
  },
  {
   "cell_type": "code",
   "execution_count": 44,
   "metadata": {},
   "outputs": [],
   "source": [
    "# 4. Test der Funktion mit den ersten 10 perfekten Quadratzahlen."
   ]
  },
  {
   "cell_type": "markdown",
   "metadata": {},
   "source": [
    "## Aufgabe 3 - List Comprehension *(3 Pkt)* <font color='green'>einfach</font>\n",
    "\n",
    "Gegeben ist eine **Liste von Strings**:\n",
    "```python\n",
    "fruits = [\"FiG\", \"PeAR\", \"aPpLe\", \"bAnAnA\", \"AprICOt\", \"mAndaRIN\", \"rAsPBeRRy\"]\n",
    "```\n",
    "1. **List Comprehension - Einfach** *(1 Pkt)* \\\n",
    "Verwenden Sie eine **List Comprehension**, um eine neue Liste zu erstellen, die die **Längen aller Wörter** in der gegebenen Liste enthält. \\\n",
    "Erwartete Ausgabe:\n",
    "```css\n",
    "[3, 4, 5, 6, 7, 8, 9]\n",
    "```\n",
    "\n",
    "2. **List Comprehension - Erweitert** *(2 Pkt)* \\\n",
    "Erstellen Sie eine **List Comprehension**, die jedes Wort in die korrekte Schreibweise mit **grossem Anfangsbuchstaben** umwandelt. Sie dürfen dies auch in zwei Schritten tun. \\\n",
    "Erwartete Ausgabe:\n",
    "```css\n",
    "['Fig', 'Pear', 'Apple', 'Banana', 'Apricot', 'Mandarin', 'Raspberry']\n",
    "```"
   ]
  },
  {
   "cell_type": "code",
   "execution_count": 7,
   "metadata": {},
   "outputs": [],
   "source": [
    "# ---------- Gegeben: -------------\n",
    "fruits = [\"FiG\", \"PeAR\", \"aPpLe\", \"bAnAnA\", \"AprICOt\", \"mAndaRIN\", \"rAsPBeRRy\"]\n",
    "# ---------------------------------\n",
    "\n",
    "# 1. List Comprehension - Einfach\n",
    "lengths = []\n",
    "for fruit in fruits:\n",
    "    length = \n",
    "    \n"
   ]
  },
  {
   "cell_type": "code",
   "execution_count": 6,
   "metadata": {},
   "outputs": [],
   "source": [
    "# 2. List Comprehension - Erweitert\n",
    "\n"
   ]
  },
  {
   "cell_type": "markdown",
   "metadata": {},
   "source": [
    "## Aufgabe 4 - Datentypen I: Typen Umwandlung *(2 Pkt)* <font color='green'>einfach</font>\n",
    "\n",
    "Gegeben sind folgende Variabeln: \n",
    "```python\n",
    "a = 0\n",
    "b = '0'\n",
    "```\n",
    "1. **Typumwandlung - Bool** *(0.5 Pkt)* \\\n",
    "Wandeln Sie die Variablen a und b jeweils in einen **Boolean (Bool)** um.\n",
    "\n",
    "2. **Typausgabe** *(0.5 Pkt)* \\\n",
    "Geben Sie den **Typ der umgewandelten Variablen** aus.\n",
    "\n",
    "3. **Erneute Typumwandlung - String** *(0.5 Pkt)* \\\n",
    "Wandeln Sie die umgewandelten (nun Bool) Variablen in einen **String** um.\n",
    "\n",
    "4. **Erneute Typausgabe** *(0.5 Pkt)* \\\n",
    "Geben Sie erneut den **Typ der umgewandelten Variablen** aus."
   ]
  },
  {
   "cell_type": "code",
   "execution_count": 15,
   "metadata": {},
   "outputs": [
    {
     "name": "stdout",
     "output_type": "stream",
     "text": [
      "<class 'bool'>\n",
      "<class 'bool'>\n",
      "<class 'str'>\n",
      "<class 'str'>\n"
     ]
    }
   ],
   "source": [
    "# ---------- Gegeben: -------------\n",
    "a = 0\n",
    "b = '0'\n",
    "# ---------------------------------\n",
    "\n",
    "# 1. Typumwandlung - Bool\n",
    "a = bool(a)\n",
    "b = bool(b)\n",
    "\n",
    "\n",
    "# 2. Typausgabe\n",
    "\n",
    "print(type(a))\n",
    "print(type(b))\n",
    "\n",
    "# 3. Erneute Typumwandlung - String\n",
    "\n",
    "a = str(a)\n",
    "b = str(b)\n",
    "\n",
    "# 4. Erneute Typausgabe\n",
    "\n",
    "print(type(a))\n",
    "print(type(b))\n",
    "\n"
   ]
  },
  {
   "cell_type": "markdown",
   "metadata": {},
   "source": [
    "## Aufgabe 5 - Datentypen II: Tuples *(2 Pkt)* <font color='green'>einfach</font>\n",
    "Gegeben ist eine **Liste von Tuples**, die Informationen über verschiedene Produkte enthält. Jedes Tuple enthält **den Produktnamen, den Preis und die Anzahl** der verfügbaren Einheiten.\n",
    "\n",
    "```python\n",
    "products = [\n",
    "    (\"Laptop\", 1200, 5),\n",
    "    (\"Smartphone\", 800, 10),\n",
    "    (\"Tablet\", 400, 8),\n",
    "    (\"Monitor\", 300, 15),\n",
    "    (\"Headphones\", 150, 25)\n",
    "]\n",
    "```\n",
    "1. **Zugriff auf Elemente** *(1 Pkt)*: \\\n",
    "Schreiben Sie eine **Schleife**, die jeden Produktnamen und seinen Preis in der folgenden Form ausgibt: \"Produkt: [Produktname], Preis: [Preis]\". Verwenden Sie dafür einen **f-String**. \\\n",
    "Beispielausgabe: \n",
    "```python\n",
    "Produkt: Laptop, Preis: 1200\n",
    "```\n",
    "\n",
    "2. **Gesamter Wert des Lagerbestands** *(1 Pkt)*: \\\n",
    "Berechnen Sie den **gesamten Wert des Lagerbestands** (Preis multipliziert mit der Anzahl der Einheiten für jedes Produkt) und **geben Sie das Ergebnis aus**."
   ]
  },
  {
   "cell_type": "code",
   "execution_count": 16,
   "metadata": {},
   "outputs": [
    {
     "name": "stdout",
     "output_type": "stream",
     "text": [
      "Produkt: Laptop, Preis: 1200 \n",
      "Produkt: Smartphone, Preis: 800 \n",
      "Produkt: Tablet, Preis: 400 \n",
      "Produkt: Monitor, Preis: 300 \n",
      "Produkt: Headphones, Preis: 150 \n"
     ]
    }
   ],
   "source": [
    "# ---------- Gegeben: -------------\n",
    "products = [\n",
    "    (\"Laptop\", 1200, 5),\n",
    "    (\"Smartphone\", 800, 10),\n",
    "    (\"Tablet\", 400, 8),\n",
    "    (\"Monitor\", 300, 15),\n",
    "    (\"Headphones\", 150, 25)\n",
    "]\n",
    "# ---------------------------------\n",
    "\n",
    "# 1. Zugriff auf Elemente und Ausgabe mit f-String\n",
    "for product in products:\n",
    "    print(f\"Produkt: {product[0]}, Preis: {product[1]} \")\n",
    "\n",
    "\n"
   ]
  },
  {
   "cell_type": "code",
   "execution_count": 17,
   "metadata": {},
   "outputs": [
    {
     "name": "stdout",
     "output_type": "stream",
     "text": [
      "25450\n"
     ]
    }
   ],
   "source": [
    "# 2. Berechnung und Ausgabe des gesamten Wert des Lagerbestands\n",
    "\n",
    "sum = 0\n",
    "for product in products:\n",
    "    sum = sum + product[1]*product[2]\n",
    "\n",
    "print(sum)\n",
    "\n"
   ]
  },
  {
   "cell_type": "markdown",
   "metadata": {},
   "source": [
    "## Aufgabe 6 - Datentypen III: Dictionaries *(3 Pkt)* <font color='green'>einfach</font>\n",
    "\n",
    "Gegeben ist das folgende **Dictionary**:\n",
    "\n",
    "```python\n",
    "students = {\n",
    "    \"Alice\": 85,\n",
    "    \"Bob\": 92,\n",
    "    \"Charlie\": 78,\n",
    "    \"Diana\": 88,\n",
    "    \"Eve\": 91\n",
    "}\n",
    "```\n",
    "\n",
    "1. **Wert auslesen** *(0.5 Pkt)* \\\n",
    "Lesen Sie den Wert (Punktzahl) des Schülers \"Charlie\" aus und geben Sie ihn aus.\n",
    "\n",
    "2. **Wert ändern**  *(0.5 Pkt)* \\\n",
    "        Ändern Sie die Punktzahl von \"Diana\" auf 95 und geben Sie das aktualisierte Dictionary aus.\n",
    "\n",
    "3. **Neues Paar hinzufügen** *(0.5 Pkt)* \\\n",
    "        Fügen Sie einen neuen Schüler \"Frank\" mit der Punktzahl 87 hinzu und geben Sie das aktualisierte Dictionary aus.\n",
    "\n",
    "4. **Schlüssel und Werte** *(0.5 Pkt)* \\\n",
    "        Geben Sie alle Schlüssel und alle Werte des Dictionaries jeweils in einer separaten Liste aus.\n",
    "\n",
    "5. **Durchschnittswert berechnen** *(1 Pkt)* \\\n",
    "        Berechnen Sie den Durchschnittswert der Punktzahlen aller Schüler und geben Sie das Ergebnis aus."
   ]
  },
  {
   "cell_type": "code",
   "execution_count": 18,
   "metadata": {},
   "outputs": [
    {
     "name": "stdout",
     "output_type": "stream",
     "text": [
      "78\n"
     ]
    }
   ],
   "source": [
    "#------------Gegeben:----------------\n",
    "students = {\n",
    "    \"Alice\": 85,\n",
    "    \"Bob\": 92,\n",
    "    \"Charlie\": 78,\n",
    "    \"Diana\": 88,\n",
    "    \"Eve\": 91\n",
    "}\n",
    "# ---------------------------------\n",
    "\n",
    "# 1. Wert auslesen\n",
    "print(students[\"Charlie\"])\n",
    "\n"
   ]
  },
  {
   "cell_type": "code",
   "execution_count": 19,
   "metadata": {},
   "outputs": [
    {
     "name": "stdout",
     "output_type": "stream",
     "text": [
      "{'Alice': 85, 'Bob': 92, 'Charlie': 78, 'Diana': 95, 'Eve': 91}\n"
     ]
    }
   ],
   "source": [
    "# 2. Wert ändern\n",
    "students[\"Diana\"] = 95\n",
    "print(students)\n"
   ]
  },
  {
   "cell_type": "code",
   "execution_count": 26,
   "metadata": {},
   "outputs": [
    {
     "data": {
      "text/plain": [
       "{'Alice': 85, 'Bob': 92, 'Charlie': 78, 'Diana': 95, 'Eve': 91}"
      ]
     },
     "execution_count": 26,
     "metadata": {},
     "output_type": "execute_result"
    }
   ],
   "source": [
    "# 3. Neues Paar hinzufügen\n",
    "students"
   ]
  },
  {
   "cell_type": "code",
   "execution_count": 23,
   "metadata": {},
   "outputs": [
    {
     "name": "stdout",
     "output_type": "stream",
     "text": [
      "dict_keys(['Alice', 'Bob', 'Charlie', 'Diana', 'Eve'])\n",
      "dict_values([85, 92, 78, 95, 91])\n"
     ]
    }
   ],
   "source": [
    "# 4. Schlüssel und Werte\n",
    "\n",
    "print(students.keys())\n",
    "print(students.values())"
   ]
  },
  {
   "cell_type": "code",
   "execution_count": 1,
   "metadata": {},
   "outputs": [
    {
     "ename": "AttributeError",
     "evalue": "module 'math' has no attribute 'mean'",
     "output_type": "error",
     "traceback": [
      "\u001b[0;31m---------------------------------------------------------------------------\u001b[0m",
      "\u001b[0;31mAttributeError\u001b[0m                            Traceback (most recent call last)",
      "Cell \u001b[0;32mIn[1], line 3\u001b[0m\n\u001b[1;32m      1\u001b[0m \u001b[38;5;66;03m# 5. Durchschnittswert berechnen\u001b[39;00m\n\u001b[1;32m      2\u001b[0m \u001b[38;5;28;01mimport\u001b[39;00m \u001b[38;5;21;01mmath\u001b[39;00m\n\u001b[0;32m----> 3\u001b[0m \u001b[43mmath\u001b[49m\u001b[38;5;241;43m.\u001b[39;49m\u001b[43mmean\u001b[49m(students\u001b[38;5;241m.\u001b[39mvalues())\n",
      "\u001b[0;31mAttributeError\u001b[0m: module 'math' has no attribute 'mean'"
     ]
    }
   ],
   "source": [
    "# 5. Durchschnittswert berechnen\n",
    "import math\n",
    "math.mean(students.values())\n"
   ]
  },
  {
   "cell_type": "markdown",
   "metadata": {},
   "source": [
    "## Aufgabe 7 - Datentypen IV: Listen *(3 Pkt)* <font color='orange'>mittel</font>\n",
    "\n",
    "Gegeben ist eine **ungeordnete Liste** von zufälligen Elementen `elements_list`, die verschiedene Typen enthält:\n",
    "\n",
    "```python\n",
    "elements_list = [\"python\", 1, \"mouse\", 3.14, \"screw\", \"mouse\", 1, 3.14, \"tv\", \"screw\", 42, \"tv\", \"python\"]\n",
    "```\n",
    "\n",
    "1. **Unveränderliche und einzigartige Liste erstellen** *(1 Pkt)*: \n",
    "    - Wandeln Sie die Liste so um, dass jedes Element nur einmal vorkommt und die Elemente nicht verändert werden können.\n",
    "    - Weisen Sie das Ergebnis einer neuen Variablen zu.\n",
    "\n",
    "\n",
    "2. **Elemente hinzufügen und entfernen** *(1 Pkt)*: \n",
    "    - Fügen Sie das Element `\"coffee\"` hinzu. \n",
    "    - Entfernen Sie das Element `1`. \n",
    "    - Geben Sie die Variable mit den Änderungen aus.\n",
    "\n",
    "3. **Existenz von Elementen überprüfen** *(1 Pkt)*: \n",
    "    - Überprüfen Sie, ob das Element `3.14` in enthalten ist, und geben Sie das Ergebnis aus. \n",
    "    - Überprüfen Sie, ob das Element `\"banana\"` enthalten ist, und geben Sie das Ergebnis aus."
   ]
  },
  {
   "cell_type": "code",
   "execution_count": 2,
   "metadata": {},
   "outputs": [],
   "source": [
    "#------------Gegeben:----------------\n",
    "elements_list = [\"python\", 1, \"mouse\", 3.14, \"screw\", \"mouse\", 1, 3.14, \"tv\", \"screw\", 42, \"tv\", \"python\"]\n",
    "# ---------------------------------\n",
    "\n",
    "# 1. Unveränderliche und einzigartige Liste erstellen(0.5 Pkt)\n",
    "\n",
    "\n"
   ]
  },
  {
   "cell_type": "code",
   "execution_count": 20,
   "metadata": {},
   "outputs": [],
   "source": [
    "# 2. Elemente hinzufügen und entfernen (0.5 Pkt)\n",
    "\n"
   ]
  },
  {
   "cell_type": "code",
   "execution_count": 21,
   "metadata": {},
   "outputs": [],
   "source": [
    "# 3. Existenz von Elementen überprüfen (0.5 Pkt)\n",
    "\n"
   ]
  },
  {
   "cell_type": "markdown",
   "metadata": {},
   "source": [
    "## Aufgabe 8 - Generatoren *(3 Pkt)* <font color='red'>schwierig</font>\n",
    "\n",
    "1. Schreiben Sie einen **Generator** `lotto_gen`, der **zufällige Lottozahlen** (zwischen 1 und 42) generiert, bis alle möglichen Zahlen einmal ausgegeben wurden. *(1.5 Pkt)*\n",
    "\n",
    "2. Verwenden Sie dann Ihren Generator, um die **ersten 6 Lottozahlen auszugeben**. *(1.5 Pkt)* \n",
    "\n",
    "Hinweis: Stellen Sie sicher, dass keine Zahl zweimal ausgegeben wird."
   ]
  },
  {
   "cell_type": "code",
   "execution_count": 7,
   "metadata": {},
   "outputs": [
    {
     "ename": "ModuleNotFoundError",
     "evalue": "No module named 'numpy'",
     "output_type": "error",
     "traceback": [
      "\u001b[0;31m---------------------------------------------------------------------------\u001b[0m",
      "\u001b[0;31mModuleNotFoundError\u001b[0m                       Traceback (most recent call last)",
      "Cell \u001b[0;32mIn[7], line 2\u001b[0m\n\u001b[1;32m      1\u001b[0m \u001b[38;5;66;03m#------------Gegeben:----------------\u001b[39;00m\n\u001b[0;32m----> 2\u001b[0m \u001b[38;5;28;01mfrom\u001b[39;00m \u001b[38;5;21;01mnumpy\u001b[39;00m\u001b[38;5;21;01m.\u001b[39;00m\u001b[38;5;21;01mrandom\u001b[39;00m \u001b[38;5;28;01mimport\u001b[39;00m shuffle\n\u001b[1;32m      3\u001b[0m help(shuffle)\n\u001b[1;32m      4\u001b[0m \u001b[38;5;66;03m# ---------------------------------\u001b[39;00m\n",
      "\u001b[0;31mModuleNotFoundError\u001b[0m: No module named 'numpy'"
     ]
    }
   ],
   "source": [
    "#------------Gegeben:----------------\n",
    "from numpy.random import shuffle\n",
    "help(shuffle)\n",
    "# ---------------------------------"
   ]
  },
  {
   "cell_type": "code",
   "execution_count": 28,
   "metadata": {},
   "outputs": [],
   "source": [
    "# 1. Definition Generator Funktion \n"
   ]
  },
  {
   "cell_type": "code",
   "execution_count": 27,
   "metadata": {},
   "outputs": [],
   "source": [
    "# 2. Generator erstellen und die ersten 6 Lottozahlen ausgeben\n"
   ]
  },
  {
   "cell_type": "markdown",
   "metadata": {},
   "source": [
    "## Aufgabe 9 - Import vs Ausführen *(2 Pkt)* <font color='green'>einfach</font>\n",
    "\n",
    "Schreiben sie eine Funktion namens ``is_imported``, welche ``True`` zurück liefert, wenn diese die Funktion importiert wurde. (Ansonsten gibt sie ``False`` zurück.).\n"
   ]
  },
  {
   "cell_type": "code",
   "execution_count": 29,
   "metadata": {},
   "outputs": [],
   "source": [
    "# Funktion is_imported erstellen\n"
   ]
  },
  {
   "cell_type": "markdown",
   "metadata": {},
   "source": [
    "# Numpy"
   ]
  },
  {
   "cell_type": "markdown",
   "metadata": {},
   "source": [
    "## Aufgabe 10 - Numpy I *(2 Pkt)* <font color='green'>einfach</font>\n",
    "\n",
    "Gegeben ist ein 2D-Array `matrix`:\n",
    "\n",
    "```python\n",
    "matrix = np.array([[1, 2, 3, 4], [5, 6, 7, 8], [9, 10, 11, 12]])\n",
    "```\n",
    "\n",
    "1. **Zugriff auf Elemente** *(1 Pkt)*: \n",
    "    - Geben Sie das Element in der ersten Zeile und dritten Spalte aus.\n",
    "    - Geben Sie die gesamte zweite Zeile aus.\n",
    "\n",
    "2. **Slicing und Summation** *(1 Pkt)*:\n",
    "    - Extrahieren Sie die Untermatrix, die aus den **ersten zwei Zeilen** und den **ersten zwei Spalten** besteht.\n",
    "    - Berechnen Sie die Summe dieser Untermatrix."
   ]
  },
  {
   "cell_type": "code",
   "execution_count": 31,
   "metadata": {},
   "outputs": [],
   "source": [
    "# ------------Gegeben:-------------\n",
    "import numpy as np\n",
    "matrix = np.array([[1, 2, 3, 4], [5, 6, 7, 8], [9, 10, 11, 12]])\n",
    "# ---------------------------------\n",
    "\n",
    "# 1. Zugriff auf Elemente (1 Pkt)\n",
    "\n",
    "\n"
   ]
  },
  {
   "cell_type": "code",
   "execution_count": 33,
   "metadata": {},
   "outputs": [],
   "source": [
    "# 2. Slicing und Summation (1 Pkt)\n",
    "\n",
    "\n"
   ]
  },
  {
   "cell_type": "markdown",
   "metadata": {},
   "source": [
    "## Aufgabe 11 - Numpy II: Array-Manipulation *(2 Pkt)* <font color='green'>einfach</font>\n",
    "\n",
    "Schreiben Sie einen Python-Code, der die folgenden Schritte ausführt, **printen Sie das jeweilige Ergebnis**.\n",
    "\n",
    "Gegeben ist folgendes **2D-Array** a mit den Werten ``[[1, 2, 3], [4, 5, 6], [7, 8, 9]]``. \n",
    "\n",
    "1. **Transponieren** Sie das Array und **weisen Sie das Ergebnis der Variable** ``a_trans`` zu. *(0.5 Pkt)*\n",
    "\n",
    "2. **Flatten** Sie das transponierte Array und **weisen Sie das Ergebnis der Variable** ``a_flat`` zu. *(0.5 Pkt)*\n",
    "\n",
    "3. Erzeugen Sie ein neues Array ``b`` mit der gleichen Form wie ``a_flat`` und **füllen Sie es mit Einsen**. *(0.5 Pkt)*\n",
    "\n",
    "4. **Addieren** Sie ``a_flat`` und ``b`` und **weisen Sie das Ergebnis der Variable** ``c`` zu. *(0.5 Pkt)*"
   ]
  },
  {
   "cell_type": "code",
   "execution_count": 34,
   "metadata": {},
   "outputs": [
    {
     "name": "stdout",
     "output_type": "stream",
     "text": [
      "a:\n",
      " [[1 2 3]\n",
      " [4 5 6]\n",
      " [7 8 9]]\n"
     ]
    }
   ],
   "source": [
    "# ------------Gegeben:-------------\n",
    "import numpy as np\n",
    "a = np.array([[1, 2, 3], [4, 5, 6], [7, 8, 9]])\n",
    "print(\"a:\\n\", a)\n",
    "# ---------------------------------\n",
    "\n",
    "# 1. Transponieren\n",
    "\n"
   ]
  },
  {
   "cell_type": "code",
   "execution_count": 39,
   "metadata": {},
   "outputs": [],
   "source": [
    "# 2. Flatten\n",
    "\n"
   ]
  },
  {
   "cell_type": "code",
   "execution_count": 37,
   "metadata": {},
   "outputs": [],
   "source": [
    "# 3. neues Array b\n",
    "\n"
   ]
  },
  {
   "cell_type": "code",
   "execution_count": 38,
   "metadata": {},
   "outputs": [],
   "source": [
    "# 4. Addition\n",
    "\n"
   ]
  },
  {
   "cell_type": "markdown",
   "metadata": {},
   "source": [
    "## Aufgabe 12 - Numpy III *(3 Pkt)* <font color='orange'>mittel</font>\n",
    "\n",
    "1. Lesen sie das File `data.csv` als Numpy Array namens ``data_1`` ein. *(0.5 Pkt)*\n",
    "    - Geben Sie die `shape` des Arrays aus. *(0.5 Pkt)*\n",
    "\n",
    "3. Erstellen Sie ein **zweites Array** namens `data_2` welches geglättete Werte von `data_1` enthält. *(1 Pkt)*\n",
    "    - Verwenden Sie dazu die Hilfestellung.\n",
    "\n",
    "4. Plotten Sie beide Arrays in **einem Plot.**\n",
    "    - **Färben** Sie die geglättete Linie **Rot** und **gestrichelt** ein. *(0.5 Pkt)*\n",
    "    - Fügen Sie eine **Legende** hinzu. *(0.5 Pkt)*\n",
    "\n",
    "**Hilfestellung:** \\\n",
    "Forum Post zu Fragestellung \"Smoothing mit Numpy\" von **Stackoverflow**.\n",
    "\n",
    "![forum_post](imgs/forum_post.png)\n",
    "\n"
   ]
  },
  {
   "cell_type": "code",
   "execution_count": 40,
   "metadata": {},
   "outputs": [
    {
     "name": "stdout",
     "output_type": "stream",
     "text": [
      "(100,)\n"
     ]
    }
   ],
   "source": [
    "# ------------Gegeben:-------------\n",
    "import numpy as np\n",
    "# ---------------------------------\n",
    "\n",
    "# 1. Lesen der Daten\n"
   ]
  },
  {
   "cell_type": "code",
   "execution_count": 41,
   "metadata": {},
   "outputs": [],
   "source": [
    "# ------------Gegeben:-------------\n",
    "def smooth(y, box_pts):\n",
    "    box = np.ones(box_pts)/box_pts\n",
    "    y_smooth = np.convolve(y, box, mode='same')\n",
    "    return y_smooth\n",
    "# ---------------------------------\n",
    "\n",
    "\n",
    "# 2. Smoothing der Daten\n"
   ]
  },
  {
   "cell_type": "code",
   "execution_count": 43,
   "metadata": {},
   "outputs": [],
   "source": [
    "# 3. Plot der Daten\n",
    "\n"
   ]
  },
  {
   "cell_type": "markdown",
   "metadata": {},
   "source": [
    "## Aufgabe 13 - Numpy  + Matplotlib *(10 Pkt)* <font color='red'>schwierig</font>\n",
    " \n",
    "Gegeben ist das Array `y_values` mit ``1000`` normalverteilten Werten.\n",
    "Dieses Array stellt gemessene Körpergrössen einer Universität dar. (z.B. `175 cm`)\n",
    " \n",
    " \n",
    "Ihre Aufgabe ist es nun mittels eines **Bar - Plots** ein **Histogramm** zu imitieren. (Siehe Bild)\n",
    "Dazu müssen Sie folgende Teilaufgaben lösen:\n",
    " \n",
    "1. Berechnen Sie ``6`` **gleichmässig verteilte Punkte (Grenzwerte)**, welche sich über denn gesammten Datenbereich erstrecken. *(2.5 Pkt)*\n",
    " \n",
    "    - **Geben Sie diese aus.** *(0.5 Pkt)*\n",
    "        - Beispiel bei einem **Datenbereich zwischen** ``140 - 210``\n",
    " \n",
    "    ```\n",
    "    Grenzwert Nr:    1   2   3   4   5   6\n",
    "    Grenzwert:      140  |   |   |   |  210\n",
    "    Datenbereich:   min                 max\n",
    "    ```\n",
    "   \n",
    " \n",
    "2. **Zählen** Sie, wie viele Werte **zwischen den 6 Grenzwerten** liegen (nur ``5`` Datenbereiche) und berechnen Sie die **Mittelpunkte der 5 Datenbereiche**.\n",
    " \n",
    "    a. **Zählen der Werte**: *(3 Pkt)*\n",
    "    - ``68`` Werte zwischen ``Grenzwert 1`` und ``Grenzwert 2`` (Datenbereich 1)\n",
    "    - ``128`` Werte zwischen ``Grenzwert 2`` und ``Grenzwert 3`` (Datenbereich 2)\n",
    "    - etc.\n",
    " \n",
    "    b.  **Berechnen Sie die Mittelpunkte der 5 Datenbereiche**: *(1 Pkt)*\n",
    "    - Datenbereich zwischen Grenzwert ``g_1`` und ``g_2``\n",
    "    - Berechnen Mittelpunkt: $ (g_1 + g_2)/ 2$\n",
    " \n",
    "   \n",
    " \n",
    "3. Erstellen Sie nun einen **Barplot**, welcher: *(3 Pkt)*\n",
    "    - als ``x-Achsenwerte`` die **Mittelpunkt der 5 Datenbereiche enthält** (nicht der 6 Grenzwerte)\n",
    "        - formatieren Sie diese Mittelpunkte als **String einer Zahl mit einer Nachkommastelle**\n",
    "    - als ``y-Achsenwerte`` die **Anzahl an Datenpunkten in den 5 Datenbereichen**\n",
    "    - erstellen Sie einen **Titel**\n",
    "    - erstellen Sie eine **x-Achsenbeschriftung**\n",
    "    - erstellen Sie eine **y-Achsenbeschriftung**\n",
    " \n",
    " \n",
    "**Beispiel Plot:**\n",
    "   \n",
    "![manual_hist](imgs/manual_histogram.png)"
   ]
  },
  {
   "cell_type": "code",
   "execution_count": 48,
   "metadata": {},
   "outputs": [],
   "source": [
    "# ------------Gegeben:----------------\n",
    "import numpy as np\n",
    "y_values = np.random.normal(175, scale = 15, size = 1000)\n",
    "# ------------------------------------\n",
    "\n",
    "# 1. Berechnen der Grenzwerte und Ausgabe\n",
    "\n",
    "\n"
   ]
  },
  {
   "cell_type": "code",
   "execution_count": 4,
   "metadata": {},
   "outputs": [],
   "source": [
    "# 2.a) Zählen der Werte in den Datenbereichen (zwischen den Grenzwerten)\n",
    "# 2.b) Berechnen der Datenbereichen-Mittelwerte\n"
   ]
  },
  {
   "cell_type": "code",
   "execution_count": 53,
   "metadata": {},
   "outputs": [],
   "source": [
    "# ------------Gegeben:----------------\n",
    "import matplotlib.pyplot as plt\n",
    "# ------------------------------------\n",
    "\n",
    "# 3. Ausgeben des Bar Plots und Umwandeln der Mittelwerte in String mit 2 Nachkommastellen\n",
    "\n"
   ]
  },
  {
   "cell_type": "markdown",
   "metadata": {},
   "source": [
    "# Matplotlib"
   ]
  },
  {
   "cell_type": "markdown",
   "metadata": {},
   "source": [
    "## Aufgabe 14 - Matplotlib II - Flagge *(2 Pkt)* <font color='green'>einfach</font>\n",
    "\n",
    "Gegeben ist das 3D Array `flag` mit einer Shape von ``(64,64,3)``.\n",
    "\n",
    "Verändern sie die **Spalten** des Arrays so, dass diese **abwechslungsweise** von ``rot``, auf ``grün`` auf ``blau`` wechseln.\n",
    "\n",
    "Bsp:\n",
    "\n",
    "\n",
    "![flag](imgs/flag.png)"
   ]
  },
  {
   "cell_type": "code",
   "execution_count": 52,
   "metadata": {},
   "outputs": [],
   "source": [
    "# ------------Gegeben:----------------\n",
    "flag = np.zeros((64,64,3))\n",
    "import matplotlib.pyplot as plt\n",
    "# ------------------------------------\n",
    "\n",
    "# Abswechslungsweise Spalten anders einfärben\n"
   ]
  },
  {
   "cell_type": "markdown",
   "metadata": {},
   "source": [
    "# Objektorientierte Programmierung"
   ]
  },
  {
   "cell_type": "markdown",
   "metadata": {},
   "source": [
    "## Aufgabe 15 - OOP Klasse - Queue *(5 Pkt)* <font color='orange'>mittel</font>\n",
    "\n",
    "Erstellen Sie eine **Klasse** namens `Queue` (Schlange). *(0.5 Pkt)*\n",
    "\n",
    "1. Erstellen sie eine `__init__` **Methode** *(1.5 Pkt)*\n",
    "    - Mit dem Mitgabewert ``queue_size`` (Integer)\n",
    "    - Initialisieren sie mit ``queue_size`` ein **gleichnamiges Attribut** der Klasse\n",
    "    - Initialisieren sie ein Variable ``storage`` als eine leere Liste\n",
    "    - Versehen Sie für jeden **Mitgabewert, Rückgabewert** und jedes **Attribut** mit einen **Type-Hint**\n",
    "\n",
    "2. Erstellen Sie eine **Methode** `add_item(item)` *(1.5 Pkt)*\n",
    "    - Diese **Methode** fügt ein `item` in den **ersten nicht besetzten Platz** in `storage` ein\n",
    "        - aber nur, wenn **weniger als** `queue_size` ``items`` in ``storage`` sind.\n",
    "            - dann wird \"added < item value >\" **ausgegeben**.\n",
    "        - ansonsten wird `Queue is full` **ausgegeben**.\n",
    "\n",
    "3. Erstellen Sie eine **Methode** ``get_item()`` *(1.5 Pkt)*\n",
    "    - Diese erlaubt es Ihnen ein **das erste Item** aus der Queue \"heraus zu nehmen\".\n",
    "        - Erstes Item = Item an Index ``0``\n",
    "        - Falls das Item vorhanden ist, wird es aus `storage` **entfernt** und **zurückgegeben**\n",
    "        - Falls es nicht vorhanden ist, wird ``None`` **zurückgegeben**.\n",
    "\n",
    "\n"
   ]
  },
  {
   "cell_type": "code",
   "execution_count": 51,
   "metadata": {},
   "outputs": [],
   "source": [
    "# Klasse Queue erstellen\n",
    "\n"
   ]
  },
  {
   "cell_type": "markdown",
   "metadata": {},
   "source": [
    "## Aufgabe 16a: OOP II - McDonalds *(8 Pkt)* <font color='red'>schwierig</font>\n",
    "\n",
    "\n",
    "1. Erstellen Sie eine Klasse namens `McDonalds` *(0.5 Pkt)*.\n",
    "\n",
    "2. Erstellen Sie eine `__init__` **Methode** wo sie folgende Attribute initialisieren: *(1.5 Pkt)*\n",
    "    - `orders`: Ein **Queue Object** mit einer ``queue_size`` von ``5``.\n",
    "        - Falls Sie **Aufgabe 17 nicht lösen konnten**, können Sie auch eine **Liste für** ``orders`` verwenden.\n",
    "    - `menu`: Ein Dictionary mit den Werten von `menu.json` (zurückgegeben von `read_menu()`)\n",
    "\n",
    "3. Erstellen Sie eine **Methode** `read_menu()`, welche das File `menu.json` im Ordner `data` liest und als **Dictionary zurückgibt**. *(1 Pkt)*\n",
    "\n",
    "4. Erstellen Sie eine **Methode** ``place_order(order)``. Diese: *(3 Pkt)*\n",
    "    - überprüft ob `order` im Menu enthalten ist.\n",
    "        - **Falls ja**:\n",
    "            - wird die `order` der `orders` Queue hinzugefügt.\n",
    "            - wird ausgegeben: `\"< Order Name > costs < Price > CHF and will soon be ready\"`\n",
    "                - ` < order Price >` kann aus dem Menu ausgelesen werden.\n",
    "        - **Falls nein**:\n",
    "            - wird `< Order Name > is not available` ausgegeben.\n",
    "\n",
    "5. Erstellen Sie eine **Methode** `finish_next_order()`, welche: *(2 Pkt)*\n",
    "    - die nächste Bestellung in `orders` fertig macht \n",
    "    - und **ausgibt**, dass diese Bestellung nun fertig ist, falls sie fertig gemacht wurde"
   ]
  },
  {
   "cell_type": "code",
   "execution_count": 73,
   "metadata": {},
   "outputs": [],
   "source": [
    "# ------------Gegeben:----------------\n",
    "import json\n",
    "# ------------------------------------\n",
    "\n",
    "# Klasse McDonalds erstellen\n",
    "\n",
    "        \n"
   ]
  },
  {
   "cell_type": "markdown",
   "metadata": {},
   "source": [
    "## Aufgabe 16b: McDonalds Bestellung: *(2 Pkt)* <font color='green'>einfach</font>\n",
    "\n",
    "6. Erstellen Sie ein `McDonalds` **Objekt**. *(0.5 Pkt)*\n",
    "\n",
    "7. Bestellen Sie einen `BigMac` *(0.5 Pkt)*\n",
    "\n",
    "8. Bestellen Sie einen `Whopper` *(0.5 Pkt)*\n",
    "\n",
    "9. Machen Sie **2 Bestellungen fertig.** *(0.5 Pkt)*"
   ]
  },
  {
   "cell_type": "code",
   "execution_count": 74,
   "metadata": {},
   "outputs": [
    {
     "name": "stdout",
     "output_type": "stream",
     "text": [
      "BigMac costs 7.50 CHF and will soon be ready\n",
      "Added BigMac\n",
      "Order Whopper is not available\n",
      "Finished BigMac\n"
     ]
    }
   ],
   "source": [
    "# 6. Objekt erstellen\n",
    "\n",
    "# 7. Bestellung BigMac\n",
    "\n",
    "# 8. Bestellung Whopper\n",
    "\n",
    "# 9. 2 Bestellungen auslösen\n"
   ]
  }
 ],
 "metadata": {
  "kernelspec": {
   "display_name": "base",
   "language": "python",
   "name": "python3"
  },
  "language_info": {
   "codemirror_mode": {
    "name": "ipython",
    "version": 3
   },
   "file_extension": ".py",
   "mimetype": "text/x-python",
   "name": "python",
   "nbconvert_exporter": "python",
   "pygments_lexer": "ipython3",
   "version": "3.11.2"
  }
 },
 "nbformat": 4,
 "nbformat_minor": 2
}
